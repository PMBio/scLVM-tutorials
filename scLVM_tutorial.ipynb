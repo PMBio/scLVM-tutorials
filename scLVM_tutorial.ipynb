{
 "cells": [
  {
   "cell_type": "markdown",
   "metadata": {},
   "source": [
    "# Estimating technical noise"
   ]
  },
  {
   "cell_type": "markdown",
   "metadata": {},
   "source": [
    "To start, we will load a few modules, namely scLVM and the rpy2 module allowing us to call R code from wihtin the notebook."
   ]
  },
  {
   "cell_type": "code",
   "execution_count": null,
   "metadata": {
    "collapsed": false
   },
   "outputs": [],
   "source": [
    "from scLVM import scLVM as scLVMPy\n",
    "from scLVM.utils.barplot import *\n",
    "from scLVM.utils.misc import *\n",
    "import scipy as SP\n",
    "import pandas as pd\n",
    "from matplotlib import cm\n",
    "%load_ext rpy2.ipython\n",
    "\n",
    "# activiate inline plotting\n",
    "%pylab inline"
   ]
  },
  {
   "cell_type": "markdown",
   "metadata": {},
   "source": [
    "## Task 1: normalization and the use of spike-in standards\n",
    "We start by load utility functions into the workspace. These are provided a part of the scLVM R package."
   ]
  },
  {
   "cell_type": "code",
   "execution_count": null,
   "metadata": {
    "collapsed": false
   },
   "outputs": [],
   "source": [
    "%%R\n",
    "#source('/Users/flo/projects/Auto_Bionf/scLVM2/py/demo/ipynb/util.R')\n",
    "#load('/Users/flo/projects/Auto_Bionf/scLVM2/py/demo/ipynb/data_Tcells.rda')\n",
    "#source('/Users/stegle/research/scLVM-tutorials/util.R')\n",
    "#load('/Users/stegle/research/scLVM-tutorials/scLVM/data/data_Tcells.rda')\n",
    "library(scLVM)\n",
    "library(DESeq)\n",
    "data(data_Tcells)\n",
    "\n",
    "print(dataMouse[ 1:5, 1:4 ])\n",
    "print(dim(dataMouse))\n",
    "\n",
    "geneTypes <- factor( c( ENSM=\"ENSM\", ERCC=\"ERCC\" )[\n",
    "  substr( rownames(dataMouse), 1, 4 ) ] )\n",
    "\n",
    "#2. calculate normalisation for counts\n",
    "countsMmus <- dataMouse[ which( geneTypes==\"ENSM\" ), ]\n",
    "countsERCC <- dataMouse[ which( geneTypes==\"ERCC\" ), ]\n",
    "lengthsMmus <- dataMouse[ which( geneTypes==\"ENSM\" ), 1 ]\n",
    "lengthsERCC <- dataMouse[ which( geneTypes==\"ERCC\" ), 1 ]\n",
    "\n",
    "#we use the size factor calcluated from ERCCs for both ERCCs and endogenous genes to \n",
    "#only correct for sequencing depth and retain information on cell size\n",
    "sfERCC <- estimateSizeFactorsForMatrix( countsERCC )\n",
    "sfMmus <- estimateSizeFactorsForMatrix( countsMmus )\n",
    "\n",
    "#normalise read counts\n",
    "nCountsERCC <- t( t(countsERCC) / sfERCC )\n",
    "nCountsMmus <- t( t(countsMmus) / sfERCC )"
   ]
  },
  {
   "cell_type": "markdown",
   "metadata": {},
   "source": [
    "We can now plot some basic QC measure to check \n",
    "* Total library size\n",
    "* Library size of endogenous genes\n",
    "* Library size of ERCC spike-ins\n",
    "* Ratio of ERCC spike-ins over total mapped reads\n",
    "\n",
    "Q: What is the latter a measure for?\n"
   ]
  },
  {
   "cell_type": "code",
   "execution_count": null,
   "metadata": {
    "collapsed": false
   },
   "outputs": [],
   "source": [
    "%%R\n",
    "library(cowplot)\n",
    "sumERCC = apply(countsERCC,2,sum)\n",
    "sumMmus = apply(countsMmus,2,sum)\n",
    "sumTotal = sumERCC + sumMmus\n",
    "ggplot(data.frame(sumTotal), aes(x=sumTotal))+geom_histogram()\n",
    "\n",
    "#you code here: repeat for \n",
    "#* Library size of endogenous genes\n",
    "#* Library size of ERCC spike-ins\n",
    "#* Ratio of ERCC spike-ins over total mapped reads"
   ]
  },
  {
   "cell_type": "markdown",
   "metadata": {},
   "source": [
    "## Task 2: Using spike-in standards to call variable genes\n",
    "Following Brenecke & Anders et al., we use the normalized read counts and the ERCC spike-ins to esitmate the proportion of tehcnical noise."
   ]
  },
  {
   "cell_type": "code",
   "execution_count": null,
   "metadata": {
    "collapsed": false
   },
   "outputs": [],
   "source": [
    "%%R \n",
    "techNoise = fitTechnicalNoise(nCountsMmus,nCountsERCC=nCountsERCC, fit_type = 'counts')"
   ]
  },
  {
   "cell_type": "markdown",
   "metadata": {},
   "source": [
    "If no spike-ins are available, we can also use the endogenous read counts for fitting the mean-CV2 relation using a log-linear fit in the log-space. Alternatively, we can fit the mean-variance relationship in the log-space using local 2nd order polynomial regression (loess)."
   ]
  },
  {
   "cell_type": "code",
   "execution_count": null,
   "metadata": {
    "collapsed": true
   },
   "outputs": [],
   "source": [
    "%%R\n",
    "#Now alternatives without using ERCC spike-ins:\n",
    "techNoiseLogFit = fitTechnicalNoise(nCountsMmus, fit_type = 'log', use_ERCC = FALSE, plot=FALSE) \n",
    "techNoiseLogVarFit = fitTechnicalNoise(nCountsMmus, fit_type = 'logvar', use_ERCC = FALSE, plot=FALSE)"
   ]
  },
  {
   "cell_type": "markdown",
   "metadata": {},
   "source": [
    "Once we have completed the fitting process, we can call variable genes."
   ]
  },
  {
   "cell_type": "code",
   "execution_count": null,
   "metadata": {
    "collapsed": false,
    "scrolled": true
   },
   "outputs": [],
   "source": [
    "%%R\n",
    "#call variable genes\n",
    "#which size factors to use ? \n",
    "sf = sfERCC\n",
    "\n",
    "#estimate variable genes\n",
    "is_het = getVariableGenes(nCountsMmus, techNoise$fit, method = \"fdr\", \n",
    "                          threshold = 0.1, fit_type=\"counts\",sfEndo=sf, sfERCC=sfERCC)\n",
    "table(is_het)\n",
    "\n",
    "#we an also do this for the other fits - how similar are the sets of recovered genes?\n",
    "#Your code here\n",
    "is_hetLog = getVariableGenes(nCountsMmus, techNoiseLogFit$fit, plot=TRUE)\n",
    "table(is_hetLog)\n",
    "\n",
    "is_hetLogVar = getVariableGenes(nCountsMmus, techNoiseLogVarFit$fit, plot=TRUE)\n",
    "table(is_hetLogVar)"
   ]
  },
  {
   "cell_type": "markdown",
   "metadata": {},
   "source": [
    "# Task 3: Accounting for cell cycle and other confounding factors"
   ]
  },
  {
   "cell_type": "markdown",
   "metadata": {},
   "source": [
    "In order to fit the latent cell cycle factor we need to retrieve cell cycle genes. For illustration purposes, here we only use genes annotated in GO (term GO:0007049). We then pass the data required to run scLVM to python. These include:\n",
    "\n",
    "* First, the required data have to be loaded. These include:\n",
    "* Normalised gene expression data: LogNcountsMmus\n",
    "* Technical noise (in log space): LogVar_techMmus\n",
    "* Gene symbols: gene_names\n",
    "* Heterogeneous genes (boolean vector): genes_geterogen\n",
    "* Cell cycle genes: cellcyclegenes_filter"
   ]
  },
  {
   "cell_type": "code",
   "execution_count": null,
   "metadata": {
    "collapsed": false
   },
   "outputs": [],
   "source": [
    "%%R -o ens_ids_cc,Y,genes_het_bool,tech_noise,idx_cc,geneID\n",
    "#get cell cycle genes from GO \n",
    "ens_ids_cc <- getEnsembl('GO:0007049')\n",
    "Y = t(log10(nCountsMmus+1)) #normalised trandformed read counts\n",
    "genes_het_bool = as.vector(is_het) #variable genes\n",
    "geneID = rownames(nCountsMmus) #gene IDs\n",
    "tech_noise = as.vector(techNoise$techNoiseLog) #technical noise\n",
    "idx_cc = na.omit(match(ens_ids_cc,geneID))-1 #cc indices in python indexing\n",
    "\n",
    "#your code here: Can you plot the mean expression vs coefficient of variation of the set of cell cycle genes? \n",
    "#Compare this to a set of differentiation genes (GO:0045064)\n",
    "meansCC = apply(nCountsMmus[idx_cc+1,],1,mean)\n",
    "cv2CC = apply(nCountsMmus[idx_cc+1,],1,var)/meansCC\n",
    "qplot(meansCC,cv2CC)+scale_y_log10()+scale_x_log10()\n"
   ]
  },
  {
   "cell_type": "code",
   "execution_count": null,
   "metadata": {
    "collapsed": true
   },
   "outputs": [],
   "source": []
  },
  {
   "cell_type": "code",
   "execution_count": null,
   "metadata": {
    "collapsed": false
   },
   "outputs": [],
   "source": [
    "%%R\n",
    "#your code here: Can you plot the mean expression vs coefficient of variation of the set of cell cycle genes? \n",
    "#Compare this to a set of differentiation genes (GO:0045064)\n",
    "\n",
    "ens_ids_cc <- getEnsembl('GO:0030154')\n",
    "idx_cc = na.omit(match(ens_ids_cc,geneID))-1 #cc indices in python indexing\n",
    "\n",
    "meansCC = apply(nCountsMmus[idx_cc+1,],1,mean)\n",
    "cv2CC = apply(nCountsMmus[idx_cc+1,],1,var)/meansCC\n",
    "qplot(meansCC,cv2CC)+scale_y_log10()+scale_x_log10()"
   ]
  },
  {
   "cell_type": "markdown",
   "metadata": {},
   "source": [
    "Filter out genes with zero expression in all cells and visualise the cell cycle matrix.`"
   ]
  },
  {
   "cell_type": "code",
   "execution_count": null,
   "metadata": {
    "collapsed": false
   },
   "outputs": [],
   "source": [
    "#your code here\n",
    "\n",
    "idx_nonzero = SP.where((Y.mean(0)**2)>0)[0]\n",
    "idx_cc_filtered = SP.intersect1d(idx_cc.astype('int32'),idx_nonzero)\n",
    "Ycc = Y[:,idx_cc_filtered]\n",
    "plt = PL.subplot(1,1,1)\n",
    "PL.imshow(Ycc,cmap=cm.RdBu,vmin=-3,vmax=+3,interpolation='None')\n",
    "#PL.colorbar()\n",
    "plt.set_xticks([])\n",
    "plt.set_yticks([])\n",
    "PL.xlabel('genes')\n",
    "PL.ylabel('cells')"
   ]
  },
  {
   "cell_type": "markdown",
   "metadata": {},
   "source": [
    "scLVM can now be fit using the cell cycle expression matrix. The user needs to define the number of latent factors to be fitted. Initially, we fit a model assuming a large numbers of factos:"
   ]
  },
  {
   "cell_type": "code",
   "execution_count": null,
   "metadata": {
    "collapsed": false
   },
   "outputs": [],
   "source": [
    "k = 80                    # number of latent factors\n",
    "out_dir = './cache'       # folder where results are cached\n",
    "file_name = 'Kcc.hdf5'    # name of the cache file\n",
    "recalc = True             # recalculate X and Kconf\n",
    "use_ard = True            # use automatic relevance detection\n",
    "sclvm = scLVMPy(Y)\n",
    "#Fit model with 80 factors\n",
    "X_ARD,Kcc_ARD,varGPLVM_ARD = sclvm.fitGPLVM(idx=idx_cc_filtered,k=k, use_ard=use_ard, out_dir=out_dir, file_name=file_name)"
   ]
  },
  {
   "cell_type": "code",
   "execution_count": null,
   "metadata": {
    "collapsed": false
   },
   "outputs": [],
   "source": []
  },
  {
   "cell_type": "markdown",
   "metadata": {},
   "source": [
    "\n",
    "In order to determine an appropriate number of hidden factors, it is instructive to visualize the variance contributions of the individual latent factors."
   ]
  },
  {
   "cell_type": "code",
   "execution_count": null,
   "metadata": {
    "collapsed": false
   },
   "outputs": [],
   "source": [
    "#Plot variance contributions from ARD \n",
    "plt = PL.subplot(1,1,1)\n",
    "PL.title('Variance explained by latent factors')\n",
    "PL.scatter(SP.arange(k)+1,varGPLVM_ARD['X_ARD'])\n",
    "PL.xlim([0,k+1])\n",
    "PL.xlabel('# Factor')\n",
    "PL.ylabel('Variance explained')"
   ]
  },
  {
   "cell_type": "markdown",
   "metadata": {},
   "source": [
    "In this example (and generally when considering cell cycle as the confounding factor), there is a large gap in the proportion of explained variance between the first and the second factor. This suggests, that a single latent factor underlies the variation captured by the cellcycle genes. Consequently, we choose to re-fit the scLVM mdoel with one latent factor only."
   ]
  },
  {
   "cell_type": "code",
   "execution_count": null,
   "metadata": {
    "collapsed": false
   },
   "outputs": [],
   "source": [
    "X,Kcc,varGPLVM = sclvm.fitGPLVM(idx=idx_cc_filtered,k=1,out_dir='./cache',file_name=file_name,recalc=True, use_ard=False)\n",
    "\n",
    "#Plot inferred similarity matrix\n",
    "plt = PL.subplot(1,1,1)\n",
    "PL.title('Similarity matrix based on cell cycle')\n",
    "PL.imshow(Kcc,cmap=cm.RdBu,vmin=-3,vmax=+3,interpolation='None')\n",
    "PL.colorbar()\n",
    "plt.set_xticks([])\n",
    "plt.set_yticks([])\n",
    "PL.xlabel('cells')\n",
    "PL.ylabel('cells')"
   ]
  },
  {
   "cell_type": "markdown",
   "metadata": {},
   "source": [
    "# Task 3: Accounting for cell cycle and other confounding factors"
   ]
  },
  {
   "cell_type": "markdown",
   "metadata": {},
   "source": [
    "First, we use the fitted scLVM model to decompose the source of variance for each gene.\n"
   ]
  },
  {
   "cell_type": "code",
   "execution_count": null,
   "metadata": {
    "collapsed": false
   },
   "outputs": [],
   "source": [
    "# considers only heterogeneous genes\n",
    "Ihet = genes_het_bool==1\n",
    "Y    = Y[:,Ihet]\n",
    "tech_noise = tech_noise[Ihet]\n",
    "geneID = geneID[Ihet]"
   ]
  },
  {
   "cell_type": "markdown",
   "metadata": {},
   "source": [
    "The computation time for the next step can be substantial. If large datasets are considerd, it may be advisable to distribute these calculations on a high performance compute cluster. In this case i0 and i1 determine the range of genes for wich this anlaysis is performed. Here, we fit the model on 1,000 genes only in order to limit computation times. Consequently, all the downstram analyses illustrated in this notebook are done on a subset of all variable genes only. For large datasets we recommend using the extended version of scLVM, fscLVM, which is available on pip. The accompanying paper is currently in revision."
   ]
  },
  {
   "cell_type": "code",
   "execution_count": null,
   "metadata": {
    "collapsed": false
   },
   "outputs": [],
   "source": [
    "#optionally: restrict range for the analysis\n",
    "i0 = 0    # gene from which the analysis starts\n",
    "i1 = 1000 # gene at which the analysis ends \n",
    "\n",
    "# construct sclvm object\n",
    "sclvm = scLVMPy(Y,geneID=geneID,tech_noise=tech_noise)\n",
    "\n",
    "# fit the model from i0 to i1\n",
    "sclvm.varianceDecomposition(K=Kcc,i0=i0,i1=i1)"
   ]
  },
  {
   "cell_type": "markdown",
   "metadata": {},
   "source": [
    "Once the contribution of cell cycle to the observed variance is estimated, cell-cycle corrected gene expression levels can be obtained. The variance component estimates calculated by scLVM are normalised such that they sum uo to 1. There may be a small number of genes where the maximum likelihood fit does not converge propperly. We suggest to remove these in downstream analyses."
   ]
  },
  {
   "cell_type": "code",
   "execution_count": null,
   "metadata": {
    "collapsed": false
   },
   "outputs": [],
   "source": [
    "normalize=True    # variance components are normalizaed to sum up to one\n",
    "\n",
    "# get variance components\n",
    "var, var_info = sclvm.getVarianceComponents(normalize=normalize)\n",
    "var_filtered = var[var_info['conv']] # filter out genes for which vd has not converged\n",
    "\n",
    "# get corrected expression levels\n",
    "Ycorr = sclvm.getCorrectedExpression()\n",
    "Ycorr.shape"
   ]
  },
  {
   "cell_type": "markdown",
   "metadata": {},
   "source": [
    "\n",
    "Here, we visualize the resulting variance component using a pie chart. Shown are the average contributions of variance (across genes) for different categories:\n",
    "* Hidden_0: the first hidden factor, here the the cell cycle\n",
    "* bio_noise: the residual biological variation\n",
    "* techh_noise: the technical noise level\n",
    "\n",
    "Repeat this when the technical noise is estimated without using ERRCs. How do the results differ?"
   ]
  },
  {
   "cell_type": "code",
   "execution_count": null,
   "metadata": {
    "collapsed": false
   },
   "outputs": [],
   "source": [
    "#calculate average variance components across all genes and visualize\n",
    "var_mean = var_filtered.mean(0)\n",
    "colors = ['Green','MediumBlue','Gray']\n",
    "pp=PL.pie(var_mean,labels=var_info['col_header'],autopct='%1.1f%%',colors=colors,\n",
    "       shadow=True, startangle=0)"
   ]
  },
  {
   "cell_type": "markdown",
   "metadata": {},
   "source": [
    "We can also visualize this stratifying for different levels of technical noise."
   ]
  },
  {
   "cell_type": "code",
   "execution_count": null,
   "metadata": {
    "collapsed": false
   },
   "outputs": [],
   "source": [
    "H2=1-var_filtered[:,2]\n",
    "var_comp_fileds = SP.array([[0, 'cell cycle', 'Peru'],\n",
    "       [1, 'biol. var', 'DarkMagenta'],\n",
    "       [2, 'tech. var', '#92c5de']], dtype=object)\n",
    "var_plot(var_filtered,H2,var_comp_fileds,normalize=True, figsize=[5,4])"
   ]
  },
  {
   "cell_type": "markdown",
   "metadata": {},
   "source": [
    "## Explore alternative normalizations\n",
    "Repeat the steps above with alternative normalizations"
   ]
  },
  {
   "cell_type": "code",
   "execution_count": null,
   "metadata": {
    "collapsed": true
   },
   "outputs": [],
   "source": [
    "## Using alternative gene sets\n",
    "\n"
   ]
  },
  {
   "cell_type": "markdown",
   "metadata": {},
   "source": [
    "# Task 4: Gene correlation analysis"
   ]
  },
  {
   "cell_type": "markdown",
   "metadata": {},
   "source": [
    "\n",
    "The fitted cell cycle covariance matrix can also be used in a range of other analyses. Here, we illustrate it's use to improve the estimation of pairwise correlation coefficients between genes, while accounting for the cell cycle. For each gene i, we fit a linear mixed model with a fixed effect representing the contribution of a second gene j and random effect representing the contribution of the cell cycle. Gene correlations can then be determined by testing the significance of the fixed effect. Again, the computational complexity of this analysis can be substantial, requiring distributing these analyses on a parallel compute cluster. For illustration, we here consider the gene-gene correlation network of the first 10 genes."
   ]
  },
  {
   "cell_type": "code",
   "execution_count": null,
   "metadata": {
    "collapsed": true
   },
   "outputs": [],
   "source": [
    "i0 = 10     # gene from which the analysis starts\n",
    "i1 = 20    # gene to which the analysis ends\n",
    "\n",
    "# fit lmm without correction\n",
    "pv0,beta0,info0 = sclvm.fitLMM(K=None,i0=i0,i1=i1,verbose=False)\n",
    "# fit lmm with correction\n",
    "pv1,beta1,info1 = sclvm.fitLMM(K=Kcc,i0=i0,i1=i1,verbose=False)"
   ]
  },
  {
   "cell_type": "code",
   "execution_count": null,
   "metadata": {
    "collapsed": false
   },
   "outputs": [],
   "source": [
    "plt=PL.subplot(2,2,1)\n",
    "PL.title('Without Correction')\n",
    "p=PL.imshow(beta0[:,i0:i1],cmap=cm.RdBu,vmin=-0.6,vmax=+1,interpolation='None')\n",
    "PL.colorbar()\n",
    "plt.set_xticks([])\n",
    "plt.set_yticks([])\n",
    "PL.xlabel('gene'),PL.ylabel('gene')\n",
    "plt=PL.subplot(2,2,2)\n",
    "PL.title('With Correction')\n",
    "p=PL.imshow(beta1[:,i0:i1],cmap=cm.RdBu,vmin=-0.6,vmax=+1,interpolation='None')\n",
    "PL.colorbar()\n",
    "plt.set_xticks([])\n",
    "plt.set_yticks([])\n",
    "PL.xlabel('gene'),PL.ylabel('gene')"
   ]
  },
  {
   "cell_type": "markdown",
   "metadata": {},
   "source": [
    "The cell-cycle corrected gene expression matix can used for various kinds of downstream analysis. This includes clustering, visualisation, network analysis etc. To use the correct expression matrix in other programmes, it is straightforward to export the corrected expression matrix as CSV file:"
   ]
  },
  {
   "cell_type": "code",
   "execution_count": null,
   "metadata": {
    "collapsed": true
   },
   "outputs": [],
   "source": [
    "SP.savetxt('Ycorr.txt',Ycorr)"
   ]
  },
  {
   "cell_type": "markdown",
   "metadata": {},
   "source": [
    "# Task 6: Dimensionality reduction and visualisation of cell states"
   ]
  },
  {
   "cell_type": "markdown",
   "metadata": {},
   "source": [
    "\n",
    "As an example for downstream analyses using corrected exprssion levels, we here consider GPy to fit a non-linear Bayeisan PCA model, therbey visualizing hidden substructures between cells."
   ]
  },
  {
   "cell_type": "code",
   "execution_count": null,
   "metadata": {
    "collapsed": true
   },
   "outputs": [],
   "source": [
    "import GPy\n",
    "# Model optimization\n",
    "Ystd = Ycorr-Ycorr.mean(0)\n",
    "Ystd/=Ystd.std(0)\n",
    "input_dim = 2 # How many latent dimensions to use\n",
    "kern = GPy.kern.RBF(input_dim,ARD=True) # ARD kernel\n",
    "m = GPy.models.BayesianGPLVM(Ystd, input_dim=input_dim, kernel=kern, num_inducing=40)\n",
    "m.optimize('scg', messages=0, max_iters=2000)"
   ]
  },
  {
   "cell_type": "markdown",
   "metadata": {},
   "source": [
    "The model assumes two principle components. Here, we visualize the relative importance of the two components.\n"
   ]
  },
  {
   "cell_type": "code",
   "execution_count": null,
   "metadata": {
    "collapsed": false
   },
   "outputs": [],
   "source": [
    "m.kern.plot_ARD()"
   ]
  },
  {
   "cell_type": "markdown",
   "metadata": {},
   "source": [
    "Finally, the position of individual cells in the principal component space can be visualized. Cells are colour coded by GATA3 expression, a canonical T-cell differentiation marker gene."
   ]
  },
  {
   "cell_type": "code",
   "execution_count": null,
   "metadata": {
    "collapsed": false
   },
   "outputs": [],
   "source": [
    "i_Gata3 = SP.where(geneID=='ENSMUSG00000015619')\n",
    "color = Ycorr[:,i_Gata3]\n",
    "#color = Ycorr[:,0]\n",
    "PL.scatter(m.X.mean[:,0], m.X.mean[:,1], 40, color)\n",
    "PL.xlabel('PC1')\n",
    "PL.ylabel('PC2')\n",
    "PL.colorbar()"
   ]
  },
  {
   "cell_type": "markdown",
   "metadata": {},
   "source": [
    "We comapre the non-linear projection to a standard principle component anlaysis:\n"
   ]
  },
  {
   "cell_type": "code",
   "execution_count": null,
   "metadata": {
    "collapsed": false
   },
   "outputs": [],
   "source": [
    "[S,W] = PCA(Ystd,2)\n",
    "PL.scatter(S[:,0],S[:,1], 40, color)\n",
    "PL.xlabel('PC1')\n",
    "PL.ylabel('PC2')\n",
    "PL.colorbar()"
   ]
  },
  {
   "cell_type": "markdown",
   "metadata": {},
   "source": [
    "Plot data using alternative dimensionality reduction algorithms. In particular t-SNE is a very poplar choice for visualising single-cell RNA-seq data."
   ]
  },
  {
   "cell_type": "code",
   "execution_count": null,
   "metadata": {
    "collapsed": false
   },
   "outputs": [],
   "source": [
    "%%R -i Ystd\n",
    "library(Rtsne)\n",
    "library(cowplot)\n",
    "res = Rtsne(Ystd, perplexity=10)"
   ]
  },
  {
   "cell_type": "code",
   "execution_count": null,
   "metadata": {
    "collapsed": false
   },
   "outputs": [],
   "source": [
    "%%R -i color\n",
    "qplot(x=res$Y[,1], y=res$Y[,2], color=color) + ylab('tSNE2') + xlab('tSNE1')"
   ]
  },
  {
   "cell_type": "markdown",
   "metadata": {},
   "source": [
    "Instead of modelling the cell cycle, now try to model a differentiation factor (GO:0045064). What do you find?"
   ]
  },
  {
   "cell_type": "code",
   "execution_count": null,
   "metadata": {
    "collapsed": true
   },
   "outputs": [],
   "source": []
  }
 ],
 "metadata": {
  "kernelspec": {
   "display_name": "Python 2",
   "language": "python",
   "name": "python2"
  },
  "language_info": {
   "codemirror_mode": {
    "name": "ipython",
    "version": 2
   },
   "file_extension": ".py",
   "mimetype": "text/x-python",
   "name": "python",
   "nbconvert_exporter": "python",
   "pygments_lexer": "ipython2",
   "version": "2.7.11"
  }
 },
 "nbformat": 4,
 "nbformat_minor": 0
}
