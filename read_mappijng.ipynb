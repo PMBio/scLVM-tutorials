{
 "cells": [
  {
   "cell_type": "markdown",
   "metadata": {},
   "source": [
    "# Read mapping of single-cell RNA-seq\n",
    "Limix offers a simple conversion tool, which can be used to convert [plink]((http://pngu.mgh.harvard.edu/~purcell/plink/)binary files (.bed), csv files and 0,1,2 files, which can be generated using [VCFtools](http://vcftools.sourceforge.net).\n",
    "\n",
    "### Most existing read mappers can be used to process single-cell RNA-seq reads  \n",
    "\n",
    "### E.g. STAR\n",
    ">\n"
   ]
  },
  {
   "cell_type": "code",
   "execution_count": null,
   "metadata": {
    "collapsed": true
   },
   "outputs": [],
   "source": []
  }
 ],
 "metadata": {
  "kernelspec": {
   "display_name": "Python 2",
   "language": "python",
   "name": "python2"
  },
  "language_info": {
   "codemirror_mode": {
    "name": "ipython",
    "version": 2
   },
   "file_extension": ".py",
   "mimetype": "text/x-python",
   "name": "python",
   "nbconvert_exporter": "python",
   "pygments_lexer": "ipython2",
   "version": "2.7.11"
  }
 },
 "nbformat": 4,
 "nbformat_minor": 0
}
